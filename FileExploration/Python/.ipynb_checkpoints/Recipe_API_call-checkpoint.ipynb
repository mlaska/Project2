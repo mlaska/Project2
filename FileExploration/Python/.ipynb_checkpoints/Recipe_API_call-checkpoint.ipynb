{
 "cells": [
  {
   "cell_type": "code",
   "execution_count": 37,
   "metadata": {},
   "outputs": [],
   "source": [
    "def RecipeCall(SearchCategory,SearchWord,SearchText):\n",
    "    # Dependencies and Setup\n",
    "    import matplotlib.pyplot as plt\n",
    "    import pandas as pd\n",
    "    import numpy as np\n",
    "    import requests\n",
    "    import json\n",
    "    import glob\n",
    "    import time\n",
    "    import os\n",
    "    import re\n",
    "    import string\n",
    "\n",
    "    #API key to be hard coded for now\n",
    "    #need to put together a config file call to pull from the api\n",
    "    API = '914b095712bc8014add64f6b91a5b030'\n",
    "    ApiId = 'd6f4ebaf' #recipe search\n",
    "    url = f'https://api.edamam.com/search?q={SearchText}&app_id={ApiId}&app_key={API}&from=0&to=100&{SearchCategory}={SearchWord}'\n",
    "    WhereToStore = 'recipe'\n",
    "    #access the API and pull data from the URL\n",
    "    response = requests.get(url).json()\n",
    "    #Set the valid characters that can be used to name the file\n",
    "    valid_chars = \"%s%s\" % (string.ascii_letters, string.digits)\n",
    "    for recipe in range(len(response['hits'])):\n",
    "        LongName = response['hits'][recipe]['recipe']['label']\n",
    "        ShortName = ''.join(c for c in LongName if c in valid_chars)\n",
    "        file_path = f'./{WhereToStore}/{ShortName}.json'\n",
    "        directory = os.path.dirname(file_path)\n",
    "        if not os.path.exists(directory):\n",
    "            os.makedirs(directory)\n",
    "        with open(file_path, 'w') as outfile:\n",
    "            json.dump(response['hits'][recipe], outfile, indent= 2)  \n",
    "    #merge all the recipes in the root folder into a master recipe file that can be used by the website\n",
    "    FinalFilePath = './data/AllRecipes.json' #name the folder where the final \n",
    "    result = []\n",
    "    for f in glob.glob(f\"./{WhereToStore}/*.json\"):\n",
    "        with open(f, \"rb\") as infile:\n",
    "            result.append(json.load(infile))\n",
    "    with open(FinalFilePath, \"w\") as outfile:\n",
    "        json.dump(result, outfile, indent= 2)    \n",
    "    return response     "
   ]
  },
  {
   "cell_type": "code",
   "execution_count": null,
   "metadata": {},
   "outputs": [],
   "source": [
    "a = RecipeCall(\"health\",'vegetarian','lemon')"
   ]
  }
 ],
 "metadata": {
  "kernelspec": {
   "display_name": "Python 3",
   "language": "python",
   "name": "python3"
  },
  "language_info": {
   "codemirror_mode": {
    "name": "ipython",
    "version": 3
   },
   "file_extension": ".py",
   "mimetype": "text/x-python",
   "name": "python",
   "nbconvert_exporter": "python",
   "pygments_lexer": "ipython3",
   "version": "3.6.9"
  }
 },
 "nbformat": 4,
 "nbformat_minor": 2
}
