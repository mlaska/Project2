{
 "cells": [
  {
   "cell_type": "code",
   "execution_count": 1,
   "metadata": {},
   "outputs": [],
   "source": [
    "# Dependencies and Setup\n",
    "import matplotlib.pyplot as plt\n",
    "import pandas as pd\n",
    "import numpy as np\n",
    "import requests\n",
    "import json\n",
    "import time\n",
    "\n",
    "import pymongo"
   ]
  },
  {
   "cell_type": "code",
   "execution_count": 2,
   "metadata": {},
   "outputs": [],
   "source": [
    "#Things to change:  q={what we want to search},  from=0&to=?? <---number of results to return  0 to 1?\n",
    "url = \"https://api.edamam.com/search?q=tofu&app_id=d6f4ebaf&app_key=914b095712bc8014add64f6b91a5b030&from=0&to=3&health=vegetarian\""
   ]
  },
  {
   "cell_type": "code",
   "execution_count": 3,
   "metadata": {},
   "outputs": [],
   "source": [
    "response = requests.get(url).json()"
   ]
  },
  {
   "cell_type": "code",
   "execution_count": 4,
   "metadata": {},
   "outputs": [],
   "source": [
    "# The default port used by MongoDB is 27017\n",
    "# https://docs.mongodb.com/manual/reference/default-mongodb-port/\n",
    "conn = 'mongodb://localhost:27017'\n",
    "client = pymongo.MongoClient(conn)\n",
    "\n",
    "# Declare the database\n",
    "db = client.recipe_db\n",
    "\n",
    "# Declare the collection\n",
    "collection = db.recipe_db\n"
   ]
  },
  {
   "cell_type": "code",
   "execution_count": 25,
   "metadata": {},
   "outputs": [],
   "source": [
    "hits_count = len(data['hits'])\n",
    "print(hits_count)"
   ]
  },
  {
   "cell_type": "code",
   "execution_count": 5,
   "metadata": {},
   "outputs": [
    {
     "name": "stdout",
     "output_type": "stream",
     "text": [
      "No Sugar.added key for index 0\n",
      "No Sugar.added key for index 1\n",
      "No Sugar.added key for index 4\n",
      "No Sugar.added key for index 9\n",
      "No Sugar.added key for index 10\n",
      "No Sugar.added key for index 11\n",
      "No Sugar.added key for index 14\n",
      "No Sugar.added key for index 15\n",
      "No Sugar.added key for index 16\n",
      "No Sugar.added key for index 17\n",
      "No Sugar.added key for index 18\n",
      "No Sugar.added key for index 19\n",
      "No Sugar.added key for index 22\n",
      "No Sugar.added key for index 25\n",
      "No Sugar.added key for index 26\n",
      "No Sugar.added key for index 28\n",
      "No Sugar.added key for index 29\n",
      "No Sugar.added key for index 30\n",
      "No Sugar.added key for index 31\n",
      "No Sugar.added key for index 32\n",
      "No Sugar.added key for index 33\n",
      "No Sugar.added key for index 34\n",
      "No Sugar.added key for index 35\n",
      "No Sugar.added key for index 36\n",
      "No Sugar.added key for index 37\n",
      "No Sugar.added key for index 38\n",
      "No Sugar.added key for index 39\n",
      "No Sugar.added key for index 41\n",
      "No Sugar.added key for index 42\n",
      "No Sugar.added key for index 43\n",
      "No Sugar.added key for index 46\n",
      "No Sugar.added key for index 47\n",
      "No Sugar.added key for index 49\n",
      "No Sugar.added key for index 50\n",
      "No Sugar.added key for index 51\n",
      "No Sugar.added key for index 52\n",
      "No Sugar.added key for index 53\n",
      "No Sugar.added key for index 54\n",
      "No Sugar.added key for index 55\n",
      "No Sugar.added key for index 56\n",
      "No Sugar.added key for index 57\n",
      "No Sugar.added key for index 58\n",
      "No Sugar.added key for index 59\n",
      "No Sugar.added key for index 61\n",
      "No Sugar.added key for index 63\n",
      "No Sugar.added key for index 64\n",
      "No Sugar.added key for index 67\n",
      "No Sugar.added key for index 68\n",
      "No Sugar.added key for index 69\n",
      "No Sugar.added key for index 70\n",
      "No Sugar.added key for index 71\n",
      "No Sugar.added key for index 72\n",
      "No Sugar.added key for index 73\n",
      "No Sugar.added key for index 76\n",
      "No Sugar.added key for index 78\n",
      "No Sugar.added key for index 80\n",
      "No Sugar.added key for index 81\n",
      "No Sugar.added key for index 83\n",
      "No Sugar.added key for index 85\n",
      "No Sugar.added key for index 86\n",
      "No Sugar.added key for index 91\n",
      "No Sugar.added key for index 92\n",
      "No Sugar.added key for index 94\n",
      "No Sugar.added key for index 95\n",
      "No Sugar.added key for index 97\n"
     ]
    }
   ],
   "source": [
    "#Rename key (Api had \"SUGAR.added\" as key, '.' not allowed in MongoDB)\n",
    "for i in range(hits_count):\n",
    "    try:\n",
    "        data['hits'][i]['recipe'][\"totalNutrients\"][\"SUGAR_added\"] = data['hits'][i]['recipe'][\"totalNutrients\"].pop(\"SUGAR.added\")\n",
    "        \n",
    "    except KeyError:\n",
    "        print(f\"No Sugar.added key for index {i}\")\n",
    "        \n",
    "#print(data)"
   ]
  },
  {
   "cell_type": "code",
   "execution_count": null,
   "metadata": {},
   "outputs": [],
   "source": [
    "#-----Probably not needed. the 'tag' key has values of SUGAR.added. \n",
    "#-----Only run this if we will eventually link 'tag' value to totalNutrients \"SUGAR_added\" key\n",
    "\n",
    "#for i in range(hits_count):\n",
    "#    data['hits'][i]['recipe']['digest'][1]['sub'][3]['tag'] = \"SUGAR_added\""
   ]
  },
  {
   "cell_type": "code",
   "execution_count": 6,
   "metadata": {},
   "outputs": [],
   "source": [
    "for i in range(hits_count):\n",
    "    collection.insert_one(data[\"hits\"][i])"
   ]
  },
  {
   "cell_type": "code",
   "execution_count": 7,
   "metadata": {},
   "outputs": [
    {
     "name": "stderr",
     "output_type": "stream",
     "text": [
      "C:\\Users\\david\\Anaconda3\\envs\\PythonWebMongo\\lib\\site-packages\\ipykernel_launcher.py:3: DeprecationWarning: count is deprecated. Use Collection.count_documents instead.\n",
      "  This is separate from the ipykernel package so we can avoid doing imports until\n"
     ]
    },
    {
     "data": {
      "text/plain": [
       "99"
      ]
     },
     "execution_count": 7,
     "metadata": {},
     "output_type": "execute_result"
    }
   ],
   "source": [
    "\n",
    "results = db.recipe_test_db.find()\n",
    "results.count()\n",
    "    \n"
   ]
  },
  {
   "cell_type": "code",
   "execution_count": 51,
   "metadata": {},
   "outputs": [],
   "source": []
  },
  {
   "cell_type": "code",
   "execution_count": null,
   "metadata": {},
   "outputs": [],
   "source": []
  }
 ],
 "metadata": {
  "kernelspec": {
   "display_name": "Python 3",
   "language": "python",
   "name": "python3"
  },
  "language_info": {
   "codemirror_mode": {
    "name": "ipython",
    "version": 3
   },
   "file_extension": ".py",
   "mimetype": "text/x-python",
   "name": "python",
   "nbconvert_exporter": "python",
   "pygments_lexer": "ipython3",
   "version": "3.6.9"
  }
 },
 "nbformat": 4,
 "nbformat_minor": 2
}
