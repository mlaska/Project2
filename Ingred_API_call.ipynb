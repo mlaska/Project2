{
 "cells": [
  {
   "cell_type": "code",
   "execution_count": 1,
   "metadata": {},
   "outputs": [],
   "source": [
    "# Dependencies and Setup\n",
    "\n",
    "import pandas as pd\n",
    "import numpy as np\n",
    "import requests\n",
    "import json\n",
    "import time\n",
    "\n",
    "import pymongo\n",
    "import re"
   ]
  },
  {
   "cell_type": "code",
   "execution_count": 4,
   "metadata": {},
   "outputs": [],
   "source": [
    "app_id = \"909c74bc\"\n",
    "app_key = \"cbdda29b0c478cb89092c83451e89ed6\"\n",
    "\n",
    "ingr_string = \"1 pound chicken\" #<-------Variable name to call in function"
   ]
  },
  {
   "cell_type": "code",
   "execution_count": 5,
   "metadata": {},
   "outputs": [
    {
     "data": {
      "text/plain": [
       "'1%20pound%20chicken'"
      ]
     },
     "execution_count": 5,
     "metadata": {},
     "output_type": "execute_result"
    }
   ],
   "source": [
    "ingr = re.sub(\"\\s+\", \"%20\", ingr_string.strip())\n",
    "ingr"
   ]
  },
  {
   "cell_type": "code",
   "execution_count": 6,
   "metadata": {},
   "outputs": [],
   "source": [
    "#\n",
    "url = f\"https://api.edamam.com/api/nutrition-data?app_id={app_id}&app_key={app_key}&ingr={ingr}\""
   ]
  },
  {
   "cell_type": "code",
   "execution_count": 7,
   "metadata": {},
   "outputs": [],
   "source": [
    "response = requests.get(url).json()"
   ]
  },
  {
   "cell_type": "code",
   "execution_count": 8,
   "metadata": {},
   "outputs": [
    {
     "data": {
      "text/plain": [
       "{'uri': 'http://www.edamam.com/ontologies/edamam.owl#recipe_54911f2a8e1048dbb4f3d44749bd0dba',\n",
       " 'calories': 975,\n",
       " 'totalWeight': 453.59237,\n",
       " 'dietLabels': ['LOW_CARB'],\n",
       " 'healthLabels': ['SUGAR_CONSCIOUS',\n",
       "  'PEANUT_FREE',\n",
       "  'TREE_NUT_FREE',\n",
       "  'ALCOHOL_FREE',\n",
       "  'SULPHITE_FREE'],\n",
       " 'cautions': [],\n",
       " 'totalNutrients': {'ENERC_KCAL': {'label': 'Energy',\n",
       "   'quantity': 975.2235955000001,\n",
       "   'unit': 'kcal'},\n",
       "  'FAT': {'label': 'Fat', 'quantity': 68.31101092200001, 'unit': 'g'},\n",
       "  'FASAT': {'label': 'Saturated', 'quantity': 19.549831147, 'unit': 'g'},\n",
       "  'FATRN': {'label': 'Trans', 'quantity': 0.4399845989000001, 'unit': 'g'},\n",
       "  'FAMS': {'label': 'Monounsaturated',\n",
       "   'quantity': 28.304163888000005,\n",
       "   'unit': 'g'},\n",
       "  'FAPU': {'label': 'Polyunsaturated',\n",
       "   'quantity': 14.651033551000001,\n",
       "   'unit': 'g'},\n",
       "  'PROCNT': {'label': 'Protein', 'quantity': 84.36818082000002, 'unit': 'g'},\n",
       "  'CHOLE': {'label': 'Cholesterol',\n",
       "   'quantity': 340.19427750000006,\n",
       "   'unit': 'mg'},\n",
       "  'NA': {'label': 'Sodium', 'quantity': 317.51465900000005, 'unit': 'mg'},\n",
       "  'CA': {'label': 'Calcium', 'quantity': 49.895160700000005, 'unit': 'mg'},\n",
       "  'MG': {'label': 'Magnesium', 'quantity': 90.71847400000001, 'unit': 'mg'},\n",
       "  'K': {'label': 'Potassium', 'quantity': 857.2895793000001, 'unit': 'mg'},\n",
       "  'FE': {'label': 'Iron', 'quantity': 4.082331330000001, 'unit': 'mg'},\n",
       "  'ZN': {'label': 'Zinc', 'quantity': 5.942060047000001, 'unit': 'mg'},\n",
       "  'P': {'label': 'Phosphorus', 'quantity': 666.7807839000001, 'unit': 'mg'},\n",
       "  'VITA_RAE': {'label': 'Vitamin A', 'quantity': 185.9728717, 'unit': 'µg'},\n",
       "  'VITC': {'label': 'Vitamin C', 'quantity': 7.257477920000001, 'unit': 'mg'},\n",
       "  'THIA': {'label': 'Thiamin (B1)',\n",
       "   'quantity': 0.27215542200000004,\n",
       "   'unit': 'mg'},\n",
       "  'RIBF': {'label': 'Riboflavin (B2)',\n",
       "   'quantity': 0.5443108440000001,\n",
       "   'unit': 'mg'},\n",
       "  'NIA': {'label': 'Niacin (B3)',\n",
       "   'quantity': 30.848817083700006,\n",
       "   'unit': 'mg'},\n",
       "  'VITB6A': {'label': 'Vitamin B6', 'quantity': 1.587573295, 'unit': 'mg'},\n",
       "  'FOLDFE': {'label': 'Folate equivalent (total)',\n",
       "   'quantity': 27.2155422,\n",
       "   'unit': 'µg'},\n",
       "  'FOLFD': {'label': 'Folate (food)', 'quantity': 27.2155422, 'unit': 'µg'},\n",
       "  'VITB12': {'label': 'Vitamin B12',\n",
       "   'quantity': 1.4061363470000001,\n",
       "   'unit': 'µg'},\n",
       "  'VITD': {'label': 'Vitamin D', 'quantity': 45.35923700000001, 'unit': 'IU'},\n",
       "  'TOCPHA': {'label': 'Vitamin E',\n",
       "   'quantity': 1.3607771100000001,\n",
       "   'unit': 'mg'},\n",
       "  'VITK1': {'label': 'Vitamin K', 'quantity': 6.80388555, 'unit': 'µg'},\n",
       "  'WATER': {'label': 'Water', 'quantity': 299.325604963, 'unit': 'g'}},\n",
       " 'totalDaily': {'ENERC_KCAL': {'label': 'Energy',\n",
       "   'quantity': 48.761179775,\n",
       "   'unit': '%'},\n",
       "  'FAT': {'label': 'Fat', 'quantity': 105.09386295692309, 'unit': '%'},\n",
       "  'FASAT': {'label': 'Saturated', 'quantity': 97.749155735, 'unit': '%'},\n",
       "  'PROCNT': {'label': 'Protein', 'quantity': 168.73636164000004, 'unit': '%'},\n",
       "  'CHOLE': {'label': 'Cholesterol', 'quantity': 113.3980925, 'unit': '%'},\n",
       "  'NA': {'label': 'Sodium', 'quantity': 13.229777458333336, 'unit': '%'},\n",
       "  'CA': {'label': 'Calcium', 'quantity': 4.9895160700000005, 'unit': '%'},\n",
       "  'MG': {'label': 'Magnesium', 'quantity': 21.599636666666672, 'unit': '%'},\n",
       "  'K': {'label': 'Potassium', 'quantity': 18.240203814893622, 'unit': '%'},\n",
       "  'FE': {'label': 'Iron', 'quantity': 22.679618500000004, 'unit': '%'},\n",
       "  'ZN': {'label': 'Zinc', 'quantity': 54.01872770000001, 'unit': '%'},\n",
       "  'P': {'label': 'Phosphorus', 'quantity': 95.25439770000001, 'unit': '%'},\n",
       "  'VITA_RAE': {'label': 'Vitamin A',\n",
       "   'quantity': 20.663652411111112,\n",
       "   'unit': '%'},\n",
       "  'VITC': {'label': 'Vitamin C', 'quantity': 8.063864355555557, 'unit': '%'},\n",
       "  'THIA': {'label': 'Thiamin (B1)',\n",
       "   'quantity': 22.679618500000004,\n",
       "   'unit': '%'},\n",
       "  'RIBF': {'label': 'Riboflavin (B2)',\n",
       "   'quantity': 41.87006492307693,\n",
       "   'unit': '%'},\n",
       "  'NIA': {'label': 'Niacin (B3)', 'quantity': 192.80510677312503, 'unit': '%'},\n",
       "  'VITB6A': {'label': 'Vitamin B6',\n",
       "   'quantity': 122.12102269230769,\n",
       "   'unit': '%'},\n",
       "  'FOLDFE': {'label': 'Folate equivalent (total)',\n",
       "   'quantity': 6.80388555,\n",
       "   'unit': '%'},\n",
       "  'VITB12': {'label': 'Vitamin B12',\n",
       "   'quantity': 58.58901445833334,\n",
       "   'unit': '%'},\n",
       "  'VITD': {'label': 'Vitamin D', 'quantity': 302.3949133333334, 'unit': '%'},\n",
       "  'TOCPHA': {'label': 'Vitamin E', 'quantity': 9.071847400000001, 'unit': '%'},\n",
       "  'VITK1': {'label': 'Vitamin K', 'quantity': 5.669904625, 'unit': '%'}},\n",
       " 'totalNutrientsKCal': {'ENERC_KCAL': {'label': 'Energy',\n",
       "   'quantity': 976,\n",
       "   'unit': 'kcal'},\n",
       "  'PROCNT_KCAL': {'label': 'Calories from protein',\n",
       "   'quantity': 346,\n",
       "   'unit': 'kcal'},\n",
       "  'FAT_KCAL': {'label': 'Calories from fat', 'quantity': 630, 'unit': 'kcal'},\n",
       "  'CHOCDF_KCAL': {'label': 'Calories from carbohydrates',\n",
       "   'quantity': 0,\n",
       "   'unit': 'kcal'}}}"
      ]
     },
     "execution_count": 8,
     "metadata": {},
     "output_type": "execute_result"
    }
   ],
   "source": [
    "response"
   ]
  },
  {
   "cell_type": "code",
   "execution_count": 9,
   "metadata": {},
   "outputs": [
    {
     "data": {
      "text/plain": [
       "{'name': '1 pound chicken',\n",
       " 'info': {'uri': 'http://www.edamam.com/ontologies/edamam.owl#recipe_54911f2a8e1048dbb4f3d44749bd0dba',\n",
       "  'calories': 975,\n",
       "  'totalWeight': 453.59237,\n",
       "  'dietLabels': ['LOW_CARB'],\n",
       "  'healthLabels': ['SUGAR_CONSCIOUS',\n",
       "   'PEANUT_FREE',\n",
       "   'TREE_NUT_FREE',\n",
       "   'ALCOHOL_FREE',\n",
       "   'SULPHITE_FREE'],\n",
       "  'cautions': [],\n",
       "  'totalNutrients': {'ENERC_KCAL': {'label': 'Energy',\n",
       "    'quantity': 975.2235955000001,\n",
       "    'unit': 'kcal'},\n",
       "   'FAT': {'label': 'Fat', 'quantity': 68.31101092200001, 'unit': 'g'},\n",
       "   'FASAT': {'label': 'Saturated', 'quantity': 19.549831147, 'unit': 'g'},\n",
       "   'FATRN': {'label': 'Trans', 'quantity': 0.4399845989000001, 'unit': 'g'},\n",
       "   'FAMS': {'label': 'Monounsaturated',\n",
       "    'quantity': 28.304163888000005,\n",
       "    'unit': 'g'},\n",
       "   'FAPU': {'label': 'Polyunsaturated',\n",
       "    'quantity': 14.651033551000001,\n",
       "    'unit': 'g'},\n",
       "   'PROCNT': {'label': 'Protein', 'quantity': 84.36818082000002, 'unit': 'g'},\n",
       "   'CHOLE': {'label': 'Cholesterol',\n",
       "    'quantity': 340.19427750000006,\n",
       "    'unit': 'mg'},\n",
       "   'NA': {'label': 'Sodium', 'quantity': 317.51465900000005, 'unit': 'mg'},\n",
       "   'CA': {'label': 'Calcium', 'quantity': 49.895160700000005, 'unit': 'mg'},\n",
       "   'MG': {'label': 'Magnesium', 'quantity': 90.71847400000001, 'unit': 'mg'},\n",
       "   'K': {'label': 'Potassium', 'quantity': 857.2895793000001, 'unit': 'mg'},\n",
       "   'FE': {'label': 'Iron', 'quantity': 4.082331330000001, 'unit': 'mg'},\n",
       "   'ZN': {'label': 'Zinc', 'quantity': 5.942060047000001, 'unit': 'mg'},\n",
       "   'P': {'label': 'Phosphorus', 'quantity': 666.7807839000001, 'unit': 'mg'},\n",
       "   'VITA_RAE': {'label': 'Vitamin A', 'quantity': 185.9728717, 'unit': 'µg'},\n",
       "   'VITC': {'label': 'Vitamin C', 'quantity': 7.257477920000001, 'unit': 'mg'},\n",
       "   'THIA': {'label': 'Thiamin (B1)',\n",
       "    'quantity': 0.27215542200000004,\n",
       "    'unit': 'mg'},\n",
       "   'RIBF': {'label': 'Riboflavin (B2)',\n",
       "    'quantity': 0.5443108440000001,\n",
       "    'unit': 'mg'},\n",
       "   'NIA': {'label': 'Niacin (B3)',\n",
       "    'quantity': 30.848817083700006,\n",
       "    'unit': 'mg'},\n",
       "   'VITB6A': {'label': 'Vitamin B6', 'quantity': 1.587573295, 'unit': 'mg'},\n",
       "   'FOLDFE': {'label': 'Folate equivalent (total)',\n",
       "    'quantity': 27.2155422,\n",
       "    'unit': 'µg'},\n",
       "   'FOLFD': {'label': 'Folate (food)', 'quantity': 27.2155422, 'unit': 'µg'},\n",
       "   'VITB12': {'label': 'Vitamin B12',\n",
       "    'quantity': 1.4061363470000001,\n",
       "    'unit': 'µg'},\n",
       "   'VITD': {'label': 'Vitamin D', 'quantity': 45.35923700000001, 'unit': 'IU'},\n",
       "   'TOCPHA': {'label': 'Vitamin E',\n",
       "    'quantity': 1.3607771100000001,\n",
       "    'unit': 'mg'},\n",
       "   'VITK1': {'label': 'Vitamin K', 'quantity': 6.80388555, 'unit': 'µg'},\n",
       "   'WATER': {'label': 'Water', 'quantity': 299.325604963, 'unit': 'g'}},\n",
       "  'totalDaily': {'ENERC_KCAL': {'label': 'Energy',\n",
       "    'quantity': 48.761179775,\n",
       "    'unit': '%'},\n",
       "   'FAT': {'label': 'Fat', 'quantity': 105.09386295692309, 'unit': '%'},\n",
       "   'FASAT': {'label': 'Saturated', 'quantity': 97.749155735, 'unit': '%'},\n",
       "   'PROCNT': {'label': 'Protein', 'quantity': 168.73636164000004, 'unit': '%'},\n",
       "   'CHOLE': {'label': 'Cholesterol', 'quantity': 113.3980925, 'unit': '%'},\n",
       "   'NA': {'label': 'Sodium', 'quantity': 13.229777458333336, 'unit': '%'},\n",
       "   'CA': {'label': 'Calcium', 'quantity': 4.9895160700000005, 'unit': '%'},\n",
       "   'MG': {'label': 'Magnesium', 'quantity': 21.599636666666672, 'unit': '%'},\n",
       "   'K': {'label': 'Potassium', 'quantity': 18.240203814893622, 'unit': '%'},\n",
       "   'FE': {'label': 'Iron', 'quantity': 22.679618500000004, 'unit': '%'},\n",
       "   'ZN': {'label': 'Zinc', 'quantity': 54.01872770000001, 'unit': '%'},\n",
       "   'P': {'label': 'Phosphorus', 'quantity': 95.25439770000001, 'unit': '%'},\n",
       "   'VITA_RAE': {'label': 'Vitamin A',\n",
       "    'quantity': 20.663652411111112,\n",
       "    'unit': '%'},\n",
       "   'VITC': {'label': 'Vitamin C', 'quantity': 8.063864355555557, 'unit': '%'},\n",
       "   'THIA': {'label': 'Thiamin (B1)',\n",
       "    'quantity': 22.679618500000004,\n",
       "    'unit': '%'},\n",
       "   'RIBF': {'label': 'Riboflavin (B2)',\n",
       "    'quantity': 41.87006492307693,\n",
       "    'unit': '%'},\n",
       "   'NIA': {'label': 'Niacin (B3)',\n",
       "    'quantity': 192.80510677312503,\n",
       "    'unit': '%'},\n",
       "   'VITB6A': {'label': 'Vitamin B6',\n",
       "    'quantity': 122.12102269230769,\n",
       "    'unit': '%'},\n",
       "   'FOLDFE': {'label': 'Folate equivalent (total)',\n",
       "    'quantity': 6.80388555,\n",
       "    'unit': '%'},\n",
       "   'VITB12': {'label': 'Vitamin B12',\n",
       "    'quantity': 58.58901445833334,\n",
       "    'unit': '%'},\n",
       "   'VITD': {'label': 'Vitamin D', 'quantity': 302.3949133333334, 'unit': '%'},\n",
       "   'TOCPHA': {'label': 'Vitamin E',\n",
       "    'quantity': 9.071847400000001,\n",
       "    'unit': '%'},\n",
       "   'VITK1': {'label': 'Vitamin K', 'quantity': 5.669904625, 'unit': '%'}},\n",
       "  'totalNutrientsKCal': {'ENERC_KCAL': {'label': 'Energy',\n",
       "    'quantity': 976,\n",
       "    'unit': 'kcal'},\n",
       "   'PROCNT_KCAL': {'label': 'Calories from protein',\n",
       "    'quantity': 346,\n",
       "    'unit': 'kcal'},\n",
       "   'FAT_KCAL': {'label': 'Calories from fat', 'quantity': 630, 'unit': 'kcal'},\n",
       "   'CHOCDF_KCAL': {'label': 'Calories from carbohydrates',\n",
       "    'quantity': 0,\n",
       "    'unit': 'kcal'}}}}"
      ]
     },
     "execution_count": 9,
     "metadata": {},
     "output_type": "execute_result"
    }
   ],
   "source": [
    "#Adding \"name\" and \"info\" keys to json\n",
    "\n",
    "entry = {\"name\": ingr_string,\n",
    "        \"info\": response}"
   ]
  },
  {
   "cell_type": "code",
   "execution_count": 16,
   "metadata": {},
   "outputs": [],
   "source": [
    "ingr_name = re.sub(\"\\s+\", \"\", ingr_string.strip())\n",
    "\n",
    "file_name = f\"{ingr_name}.json\"\n",
    "# #  Saves api response to json file\n",
    "with open(file_name, 'w') as f:\n",
    "     json.dump(entry, f, indent= 2)"
   ]
  },
  {
   "cell_type": "code",
   "execution_count": null,
   "metadata": {},
   "outputs": [],
   "source": []
  },
  {
   "cell_type": "code",
   "execution_count": null,
   "metadata": {},
   "outputs": [],
   "source": []
  },
  {
   "cell_type": "code",
   "execution_count": null,
   "metadata": {},
   "outputs": [],
   "source": []
  },
  {
   "cell_type": "code",
   "execution_count": null,
   "metadata": {},
   "outputs": [],
   "source": [
    "\n",
    "    \n"
   ]
  },
  {
   "cell_type": "code",
   "execution_count": null,
   "metadata": {},
   "outputs": [],
   "source": []
  },
  {
   "cell_type": "code",
   "execution_count": null,
   "metadata": {},
   "outputs": [],
   "source": []
  }
 ],
 "metadata": {
  "kernelspec": {
   "display_name": "Python 3",
   "language": "python",
   "name": "python3"
  },
  "language_info": {
   "codemirror_mode": {
    "name": "ipython",
    "version": 3
   },
   "file_extension": ".py",
   "mimetype": "text/x-python",
   "name": "python",
   "nbconvert_exporter": "python",
   "pygments_lexer": "ipython3",
   "version": "3.6.9"
  }
 },
 "nbformat": 4,
 "nbformat_minor": 2
}
