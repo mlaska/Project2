{
 "cells": [
  {
   "cell_type": "code",
   "execution_count": 7,
   "metadata": {},
   "outputs": [],
   "source": [
    "def IngredientCall(Volume,Measure,Name,Orig_name):\n",
    "    #Dependencies\n",
    "    import re\n",
    "    import os\n",
    "    import string\n",
    "    import glob\n",
    "    import pandas as pd\n",
    "    import numpy as np\n",
    "    import requests\n",
    "    import json\n",
    "    import time\n",
    "    \n",
    "    #API key to be hard coded for now\n",
    "    #need to put together a config file call to pull from the api\n",
    "    ApiId = \"909c74bc\" #Ingredient search\n",
    "    API = 'cbdda29b0c478cb89092c83451e89ed6'\n",
    "    #Convert spaces to space character in ingredient searched\n",
    "    Ingredient = f'{Volume} {Measure} {Name}'\n",
    "    IngredientReplaceSpace = re.sub(\"\\s+\", \"%20\", Ingredient.strip())\n",
    "    \n",
    "    url = f\"https://api.edamam.com/api/nutrition-data?app_id={ApiId}&app_key={API}&ingr={IngredientReplaceSpace}\"\n",
    "    WhereToStore = 'Ingredient'\n",
    "    #access the API and pull data from the URL\n",
    "    response = requests.get(url).json()\n",
    "    #Set the valid characters that can be used to name the file\n",
    "    valid_chars = \"%s%s\" % (string.ascii_letters, string.digits)\n",
    "    \n",
    "    LongName = Ingredient\n",
    "    ShortName = ''.join(c for c in LongName if c in valid_chars)\n",
    "    file_path = f'./{WhereToStore}/{ShortName}.json'\n",
    "    directory = os.path.dirname(file_path)\n",
    "    if not os.path.exists(directory):\n",
    "        os.makedirs(directory)\n",
    "    #Add the name of the ingredient Searched to the JSON file\n",
    "    entry = {\"name\": LongName,\n",
    "             \"Volume\": Volume,\n",
    "             \"Measure\": Measure,\n",
    "             \"Name\": Name,\n",
    "             \"Orig_name\": Orig_name,\n",
    "             \"info\": response}\n",
    "    #Save the file\n",
    "    try: response['status'] == 'error'\n",
    "    \n",
    "    except: with open(file_path, 'w') as outfile:\n",
    "                json.dump(entry, outfile, indent= 2)  \n",
    "    \n",
    "    #merge all the recipes in the root folder into a master recipe file that can be used by the website\n",
    "    #FinalFilePath = './data/AllIngredients.json' #name the folder where the final \n",
    "    #result = []\n",
    "    #for f in glob.glob(f\"./{WhereToStore}/*.json\"):\n",
    "    #    with open(f, \"rb\") as infile:\n",
    "    #        result.append(json.load(infile))\n",
    "    #with open(FinalFilePath, \"w\") as outfile:\n",
    "    #    json.dump(result, outfile, indent= 2)    \n",
    "    return entry   "
   ]
  },
  {
   "cell_type": "code",
   "execution_count": 8,
   "metadata": {},
   "outputs": [],
   "source": [
    "a = IngredientCall('','','1/2 cup brown sugar','1/2 cup brown sugar')"
   ]
  },
  {
   "cell_type": "code",
   "execution_count": 12,
   "metadata": {},
   "outputs": [
    {
     "data": {
      "text/plain": [
       "True"
      ]
     },
     "execution_count": 12,
     "metadata": {},
     "output_type": "execute_result"
    }
   ],
   "source": [
    "a[\"info\"]['status'] == 'error'"
   ]
  }
 ],
 "metadata": {
  "kernelspec": {
   "display_name": "Python 3",
   "language": "python",
   "name": "python3"
  },
  "language_info": {
   "codemirror_mode": {
    "name": "ipython",
    "version": 3
   },
   "file_extension": ".py",
   "mimetype": "text/x-python",
   "name": "python",
   "nbconvert_exporter": "python",
   "pygments_lexer": "ipython3",
   "version": "3.6.9"
  }
 },
 "nbformat": 4,
 "nbformat_minor": 2
}
