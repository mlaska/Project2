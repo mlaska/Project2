{
 "cells": [
  {
   "cell_type": "code",
   "execution_count": 61,
   "metadata": {},
   "outputs": [],
   "source": [
    "# Dependencies and Setup\n",
    "import matplotlib.pyplot as plt\n",
    "import pandas as pd\n",
    "import numpy as np\n",
    "import requests\n",
    "import json\n",
    "import time\n",
    "#import pymongo\n",
    "import os\n",
    "import re\n",
    "import string\n"
   ]
  },
  {
   "cell_type": "code",
   "execution_count": 62,
   "metadata": {},
   "outputs": [],
   "source": [
    "def APICall(SearchCategory,SearchWord,SearchText,ApiId,WhereToStore):\n",
    "    #API key to be hard coded for now\n",
    "    #need to put together a config file call to pull from the api\n",
    "    API = '914b095712bc8014add64f6b91a5b030'\n",
    "    #APIID = 'd6f4ebaf' #recipe search\n",
    "    url = f'https://api.edamam.com/search?q={SearchText}&app_id={ApiId}&app_key={API}&from=0&to=100&{SearchCategory}={SearchWord}'\n",
    "    #access the API and pull data from the URL\n",
    "    response = requests.get(url).json()\n",
    "    #Set the valid characters that can be used to name the file\n",
    "    valid_chars = \"%s%s\" % (string.ascii_letters, string.digits)\n",
    "    for recipe in range(len(response['hits'])):\n",
    "        LongName = response['hits'][recipe]['recipe']['label']\n",
    "        ShortName = ''.join(c for c in LongName if c in valid_chars)\n",
    "        file_path = f'./{WhereToStore}/{ShortName}.json'\n",
    "        directory = os.path.dirname(file_path)\n",
    "        if not os.path.exists(directory):\n",
    "            os.makedirs(directory)\n",
    "        with open(file_path, 'w') as outfile:\n",
    "            json.dump(response['hits'][recipe], outfile)  \n",
    "    return response\n",
    "\n",
    "a = APICall(\"health\",'vegetarian','potato','d6f4ebaf','none')"
   ]
  }
 ],
 "metadata": {
  "kernelspec": {
   "display_name": "Python 3",
   "language": "python",
   "name": "python3"
  },
  "language_info": {
   "codemirror_mode": {
    "name": "ipython",
    "version": 3
   },
   "file_extension": ".py",
   "mimetype": "text/x-python",
   "name": "python",
   "nbconvert_exporter": "python",
   "pygments_lexer": "ipython3",
   "version": "3.6.9"
  }
 },
 "nbformat": 4,
 "nbformat_minor": 2
}
